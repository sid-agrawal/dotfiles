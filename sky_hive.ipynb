{
  "nbformat": 4,
  "nbformat_minor": 0,
  "metadata": {
    "colab": {
      "name": "sky_hive.ipynb",
      "provenance": [],
      "collapsed_sections": [],
      "toc_visible": true,
      "include_colab_link": true
    },
    "kernelspec": {
      "name": "python3",
      "display_name": "Python 3"
    }
  },
  "cells": [
    {
      "cell_type": "markdown",
      "metadata": {
        "id": "view-in-github",
        "colab_type": "text"
      },
      "source": [
        "<a href=\"https://colab.research.google.com/github/sid-agrawal/dotfiles/blob/master/sky_hive.ipynb\" target=\"_parent\"><img src=\"https://colab.research.google.com/assets/colab-badge.svg\" alt=\"Open In Colab\"/></a>"
      ]
    },
    {
      "cell_type": "markdown",
      "metadata": {
        "id": "B4H9ijgz_4uP"
      },
      "source": [
        "# Vaccine manufacturing skills in Michigan, the current labour market and future evolution."
      ]
    },
    {
      "cell_type": "markdown",
      "metadata": {
        "id": "He3eLMopA5t0"
      },
      "source": [
        "#### 1.\tWhat questions would you ask of the data science department about the generation of this raw data report? List any relevant assumptions you are making about the raw data report before proceeding with the next steps."
      ]
    },
    {
      "cell_type": "markdown",
      "metadata": {
        "id": "XQm_YxLyA7y0"
      },
      "source": [
        "Some of my questions to the data science team: \r\n",
        "\r\n",
        "1. How was the data collected? Is this a comprehensive collection of jobs and resumes or is it a random sample? Assuming it is a random sample, do we know what sampling biases might have occured while collecting this data? \r\n",
        "For eg: Did we sample the data uniformly across day of week, month of year. \r\n",
        "\r\n",
        "2. Are the resumes and job postings, those of job seekers and positions that were open when the data was collected? I'm aware that resumes and even positions remain posted long after they are filled. Do we have a technique to filter these out? If not, I think a fairly good analysis can be done even with information from currently employed people and currently occupied positions. It is however important to know which case we are looking at. \r\n",
        "\r\n",
        "3. I see two metrics on the right, which look like they were calculated by an algorithm at SkyHive, namely <i>complexity</i> and <i>importance</i>. \r\n",
        "I would like to know what they represent and how they are calculated. A first guess was that importance is a score of how important a skill is to a role and complexity is a score of how complex the skill is considered to be. However, I do not see good evidence for my hypothesis yet. \r\n",
        "\r\n",
        "4. What are the other ways in which bias could have entered our data? for eg: is it possible that some of the people seeking a job in an industry for a long period of time without success don't have the skills needed in that industry? We might be able to read some research around the gap between the skills of job seekers vs those actively employed in an industry. (It might just be that a larger proportion of job seekers are younger, just out of college, expect lower wages)\r\n",
        "\r\n",
        "My assumptions about the raw data: \r\n",
        "\r\n",
        "1. The resumes represent active job seekers, the jobs represent open positions. \r\n",
        "2. The information is a representative sample of the listed skills, roles and geographies. \r\n",
        "3. That the information is accurate, resumes are real and honest, employers are honest about the skills they require. "
      ]
    },
    {
      "cell_type": "markdown",
      "metadata": {
        "id": "mHambdQoB63q"
      },
      "source": [
        "#### 2.\tWhich data in the raw data report is the most relevant to the client, in light of the above overview? What sort of conclusions could this data drive? Please provide three conclusions you could drive from this report to provide guidance at a business level."
      ]
    },
    {
      "cell_type": "markdown",
      "metadata": {
        "id": "pi3eMVaiCNXV"
      },
      "source": [
        "With a quick glance, I could see that not all the skills listed in the dataset are relevant to the manufacturing of vaccines. Vaccine manufacturing is a complex process and I'm not aware of all the skills it requires, but I could see skills in the dataset like 'hair styling' which indicated that the dataset is not restricted to skills required in the vaccine manufacturing industry. \r\n",
        "\r\n",
        "I can think of a couple of ways to get to the skills most relevant to the client. \r\n",
        "\r\n",
        "1. Comprehensive interview with the client on functions involved in the manufacturing of a vaccine and the skills required for each of these. \r\n",
        "2. Secondary research on the vaccine manuafcturing process. for eg: by looking over a few articles, I found out that 70% of the effort in vaccine manufacturing is in quality assurance. \r\n",
        "3. There may be a way of teasing out relevant skills from the data itself. We have information on the job requirements from major vaccine manufacturers like Sanofi, looking at their requirements over the years would give a good idea about the skill sets required in the industry. \r\n",
        "\r\n",
        "Once we have the desired functions(roles) and skill sets, we must cut the data down and focus on these. \r\n",
        "\r\n",
        "Conclusions that may be drawn:\r\n",
        "The data is comprehensive and very interesting, in the limited time I've had with it, I can see that it can be useful to generate the following at the least: \r\n",
        "\r\n",
        "1) Prevailing wages by geography for the required skill sets.\r\n",
        "\r\n",
        "2) Skills in demand, skills where a supply shortage exists. Extent of the supply shortage. \r\n",
        "\r\n",
        "3) Emerging skills in the industry, over time\r\n",
        "\r\n",
        "4) Geographic distribution of skill sets. For what skills, hiring may have to happen outside Michigan and even outside the country. \r\n",
        "\r\n",
        "5) What skills are often found together. for eg: is it common to find biochemistry skills along with attention to detail, or would separate hires have to be made for certain quality control functions. \r\n",
        "\r\n",
        "6) This is ambitious, but with a matrix of roles/functions and the skills which make those roles, the corresponding wages. We may be able to get to the most expensive skills, not just the most expensive roles. \r\n"
      ]
    },
    {
      "cell_type": "markdown",
      "metadata": {
        "id": "f6WLsoytHoaP"
      },
      "source": [
        "#### 3.\tImagine you are tasked with wrapping the raw data outputs in an industry-focused report that could be sold to this, and other, clients in a specific industry (e.g. mining). Provide a high-level summary and breakdown of the sections you would include in such a report. \r\n"
      ]
    },
    {
      "cell_type": "markdown",
      "metadata": {
        "id": "YD6TJpnN_a2G"
      },
      "source": [
        "Comment: This is a high level of what ideas I have now, and I'd want to structure the report. I would change some of this as I talk to the teams, know more about client requirements and what the client's ask has been in the past. \r\n",
        "\r\n",
        "1. Exec Summary: \r\n",
        "Key statistics and insights about the labour market in the sector. Will include short crisp sentences about the findings from subsequent sections. eg: prevailing wages, top 3 skills in demand, immediate challenges in the labour market eg: a skill that is in tremendously short supply. \r\n",
        "\r\n",
        "2. Functions within the industry and skill breakdown \r\n",
        "I'd like to break down the labour demand in the industry into key functions and the skills required to perform those functions. This would be a current picture of things. For eg: in vaccine manufacturing I came across the following broad steps (<i> refer link 1 below </i>) \r\n",
        "\r\n",
        " 1. Bioprocessing\r\n",
        " 2. Formulation, quality control and filling\r\n",
        " 3. Finishing and Packaging\r\n",
        "\r\n",
        "I would like to break down the skills requirement for these functions broadly, so the client can identify parts of the process that are dependent on a type of skill, and identify skills important for critical steps in the process. \r\n",
        "\r\n",
        "3. Prevailing Wages\r\n",
        "A summary of the range of wages seen for key roles,I would like to go with wages seen on the job boards rather than the ones asked for in resumes, unless I see a significant difference between the two. Starting with a breakdown of wages/salaries locally (if we are focusing the report on a particular state like Michigan), I'd proceed to talk about wages at a broader geographic level, outside the state and outside the country. \r\n",
        "(I think breaking this down into a skill level has a challenge, we don't readily know the wage for a skill, for eg: a biochemist and a hair stylist will both need attention to detail, but may be getting paid very differently for the skill.)  \r\n",
        "\r\n",
        "4. Geographic distribution of skills \r\n",
        "Plot the geographic distribution of some of the top skills required (I'd look at the information in resumes for this) and talk about it. This may be especially important in terms of changes in wages required for hiring out of state/foreign talent. There may be crucial skills in every industry for which hiring foreign talent is essential. \r\n",
        "\r\n",
        "5. Challenges in the labour market\r\n",
        "Evaluate skills which are in short supply, (More jobs than resumes would be the top indicator from our data). Talk further about the geographic distribution of these skills, (would flow from section 4). Talk about how these skills impact functions described in section 2 and hence which of these skills are critical to the industry. We could also consider talking about training programs available to reskill existing employees in these skills. \r\n",
        "\r\n",
        "6. Future of the labour market\r\n",
        "Talk about what skills are emerging as more important over time. What changes in the industry, perhaps changes to how functions are performed, are driving this. For eg: Is a larger section of quality control happening automatically, is this driving the need for more skills in AI? How the function/roles to skills matrix could look in the future. \r\n",
        "Also consider skills that might be automated, eg: will a larger part of record keeping happen via automated scripts, bots that understand natural language. How automation may alleviate some of the skills shortages but also create new ones. \r\n",
        "\r\n"
      ]
    },
    {
      "cell_type": "markdown",
      "metadata": {
        "id": "m3q5pE-xk-Bs"
      },
      "source": [
        "### Provide one example of a sample visualization, insight, or calculation that you might include in the final report."
      ]
    },
    {
      "cell_type": "markdown",
      "metadata": {
        "id": "mF-yZnftkMQd"
      },
      "source": [
        "\r\n",
        "To begin with, I'd like to explore the current and possibly historic composition of skills in the vaccine manufacturing industry. Here I'm exploring the skills required by one major manufacturer 'Sanofi', over time. This analysis could be extended by grouping together several key vaccine manufacturers and examining their requirements. \r\n",
        "\r\n",
        "Steps of the analysis are as follows: \r\n",
        "\r\n",
        "\r\n",
        "1) Look at the years for which we have job requirements data for Sanofi (in this case 2019 and 2020 is the answer) \r\n",
        "\r\n",
        "2)Count the total number of skills required each year and rank each skill required as a percentage of the total number of skills required for the year. \r\n",
        "\r\n",
        "3)Compare the top skills required for 2019 and 2020, plot them as stacked graphs, do we see any changes in requirements over these years?  \r\n",
        "\r\n"
      ]
    },
    {
      "cell_type": "markdown",
      "metadata": {
        "id": "hZSAjck8KmVD"
      },
      "source": [
        "### Following Lines are Code, analysis of the output follows"
      ]
    },
    {
      "cell_type": "code",
      "metadata": {
        "colab": {
          "base_uri": "https://localhost:8080/",
          "height": 536
        },
        "id": "19Uud7v7b1ze",
        "outputId": "b32262ca-4b04-44b5-e073-4e469dd5f566"
      },
      "source": [
        "## Code for plots and table \r\n",
        "\r\n",
        "\r\n",
        "#mount my google drive, this runs out of google colab and needs data in drive\r\n",
        "from google.colab import drive \r\n",
        "#drive.mount('/content/gdrive')\r\n",
        "\r\n",
        "import pandas as pd\r\n",
        "import numpy as np\r\n",
        "import matplotlib.pyplot as plt\r\n",
        "import seaborn as sns\r\n",
        "from tabulate import tabulate\r\n",
        "pd.options.mode.chained_assignment = None\r\n",
        "\r\n",
        "## read the dataset\r\n",
        "labor=pd.read_csv('gdrive/My Drive/Labourmarket/labor.csv')\r\n",
        "\r\n",
        "\r\n",
        "## get the column names of the dataset\r\n",
        "labor.columns\r\n",
        "\r\n",
        "##filter out columns that are jobs at Sanofi\r\n",
        "sanofi_job_filter = (labor['Type'] == 'job') & (labor['OriginalCompanyName'] == 'Sanofi')\r\n",
        "sanofi_jobs = labor.loc[sanofi_job_filter]\r\n",
        "\r\n",
        "##Format date variables as pandas date times and extract the year\r\n",
        "sanofi_jobs.loc[:,'CreationDate'] = pd.to_datetime(sanofi_jobs.loc[:,'CreationDate'])\r\n",
        "sanofi_jobs.loc[:,'CreationYear'] = sanofi_jobs.loc[:,'CreationDate'].dt.to_period('Y')\r\n",
        "\r\n",
        "##some exploratory analysis on the years (I was disappointed we didn't have more years of data for Sanofi)\r\n",
        "#print(sanofi_jobs['skill_title'].value_counts())\r\n",
        "#print(sanofi_jobs['CreationYear'].value_counts())\r\n",
        "\r\n",
        "##Grouping data for plots\r\n",
        "## Get the total number of times each skill has been required in the past two years\r\n",
        "sanofi_skills_year = pd.DataFrame(sanofi_jobs.groupby(['CreationYear', 'skill_title']).size())\r\n",
        "sanofi_skills_year.reset_index(level = ['skill_title'], inplace = True)\r\n",
        "sanofi_skills_year.columns = ['skill_title', 'sum_skills']\r\n",
        "\r\n",
        "#Get the total number of skills required in each year, for the past two years\r\n",
        "sanofi_year = pd.DataFrame(sanofi_jobs.groupby(['CreationYear']).size())\r\n",
        "sanofi_skills_year = sanofi_skills_year.merge(sanofi_year, on = ['CreationYear'])\r\n",
        "sanofi_skills_year.columns = ['skill_title', 'sum_skill', 'year_total']\r\n",
        "### Calculate the requirement of each skill as a percentage of total skills required\r\n",
        "sanofi_skills_year.loc[:,'skill_percentage'] = (sanofi_skills_year['sum_skill']/sanofi_skills_year['year_total'])*100\r\n",
        "sanofi_skills_year.sort_values(by = ['CreationYear', 'skill_percentage'] , ascending = [False,False], inplace = True)\r\n",
        "\r\n",
        "#create a pseudo rank variable of skills\r\n",
        "sanofi_skills_year.loc[:,'rank'] = sanofi_skills_year.groupby('CreationYear')['skill_percentage'].cumcount()+1\r\n",
        "\r\n",
        "#look at top 5 skills \r\n",
        "top_skills_year = sanofi_skills_year.groupby(['CreationYear']).head(4)\r\n",
        "top_skills_year.reset_index(inplace = True)\r\n",
        "\r\n",
        "\r\n",
        "\r\n",
        "##pivot to get a wide table for plotting\r\n",
        "top_skills_year_t = top_skills_year.pivot(index = 'CreationYear', columns = 'skill_title', values = 'skill_percentage')\r\n",
        "\r\n",
        "\r\n",
        "import seaborn as sns\r\n",
        "import matplotlib.pyplot as plt\r\n",
        "sns.set()\r\n",
        "ax = top_skills_year_t.plot.bar(stacked = True)\r\n",
        "plt.legend(loc='center left', bbox_to_anchor=(1.0, 0.5))\r\n",
        "\r\n",
        "ax.set(xlabel = \"Year\", ylabel = \"Percentage of total skills required\")\r\n",
        "plt.title(\"Top skills required in Vaccine Manufacturing - A look at Sanofi\")\r\n",
        "plt.show()\r\n",
        "\r\n",
        "\r\n",
        "#pretty print the table\r\n",
        "print(\"\\n\")\r\n",
        "print(tabulate(top_skills_year, headers = \"keys\"))"
      ],
      "execution_count": null,
      "outputs": [
        {
          "output_type": "display_data",
          "data": {
            "image/png": "[encoded data removed]",
            "text/plain": [
              "<Figure size 432x288 with 1 Axes>"
            ]
          },
          "metadata": {
            "tags": []
          }
        },
        {
          "output_type": "stream",
          "text": [
            "\n",
            "\n",
            "    CreationYear    skill_title            sum_skill    year_total    skill_percentage    rank\n",
            "--  --------------  -------------------  -----------  ------------  ------------------  ------\n",
            " 0  2020            Creativity                    28          1137             2.46262       1\n",
            " 1  2020            Driving                       28          1137             2.46262       2\n",
            " 2  2020            Infectious Diseases           27          1137             2.37467       3\n",
            " 3  2020            Rare Disease                  27          1137             2.37467       4\n",
            " 4  2019            Recruitment                   38          1681             2.26056       1\n",
            " 5  2019            Infectious Diseases           36          1681             2.14158       2\n",
            " 6  2019            Responsibility                32          1681             1.90363       3\n",
            " 7  2019            Training                      32          1681             1.90363       4\n"
          ],
          "name": "stdout"
        }
      ]
    },
    {
      "cell_type": "markdown",
      "metadata": {
        "id": "aAx92FgyBNE6"
      },
      "source": [
        "Some comments about the table and plot: \r\n",
        "With just two years of data, the evolution of the labour market isn't really visible here. Of course I have just considered one company. \r\n",
        "\r\n",
        "However 2020 was a year of vital significance in the industry, so it is interesting to compare the requirements in 2020 to those in 2019. \r\n",
        "\r\n",
        "By glancing through the data, I see that 'Driving' is a skill listed in research roles in Sanofi, indicating that Sanofi wants researchers who drive projects, Creativity has become more important too. This could mean that innovation is becoming more important in the vaccine manufacturing industry. \r\n",
        "\r\n",
        "Skills in rare diseases are gaining importance too, a glance at Sanofi's press releases indicated that they were interested in the impact of COVID19 on the rare disease community. \r\n",
        "\r\n",
        "So this might be a glimpse into how 2020 has been pivotal to the vaccine manufacturing industry and the labour market it relies on. \r\n",
        "\r\n",
        "\r\n"
      ]
    },
    {
      "cell_type": "markdown",
      "metadata": {
        "id": "eikN-MgXFYaf"
      },
      "source": [
        "#### Main References: \r\n",
        "\r\n",
        "1. https://www.researchgate.net/publication/334323743_Emerging_Technologies_for_Low-Cost_Rapid_Vaccine_Manufacture\r\n",
        "\r\n",
        "2. https://www.ncbi.nlm.nih.gov/pmc/articles/PMC5518734/\r\n",
        "\r\n",
        "3. https://www.sanofi.ca/en/about-us/our-response-to-covid-19\r\n"
      ]
    }
  ]
}